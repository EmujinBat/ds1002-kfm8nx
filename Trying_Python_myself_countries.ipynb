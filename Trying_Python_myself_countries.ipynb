{
  "nbformat": 4,
  "nbformat_minor": 0,
  "metadata": {
    "colab": {
      "provenance": [],
      "authorship_tag": "ABX9TyMZa4/qcAXKe7lVMehYKRrU",
      "include_colab_link": true
    },
    "kernelspec": {
      "name": "python3",
      "display_name": "Python 3"
    },
    "language_info": {
      "name": "python"
    }
  },
  "cells": [
    {
      "cell_type": "markdown",
      "metadata": {
        "id": "view-in-github",
        "colab_type": "text"
      },
      "source": [
        "<a href=\"https://colab.research.google.com/github/EmujinBat/ds1002-kfm8nx/blob/main/Trying_Python_myself_countries.ipynb\" target=\"_parent\"><img src=\"https://colab.research.google.com/assets/colab-badge.svg\" alt=\"Open In Colab\"/></a>"
      ]
    },
    {
      "cell_type": "code",
      "execution_count": 5,
      "metadata": {
        "id": "ET4_DQi4Gy6L",
        "colab": {
          "base_uri": "https://localhost:8080/"
        },
        "outputId": "a533f3cb-f793-4d23-85dc-8208efb08769"
      },
      "outputs": [
        {
          "output_type": "stream",
          "name": "stdout",
          "text": [
            "No match\n",
            "No match\n",
            "No match\n",
            "No match\n",
            "No match\n",
            "No match\n"
          ]
        }
      ],
      "source": [
        "countries = [\"vietnam\",\"italy\",\"Uzbekistan\" ,\"spain\",\"united states\", \"uruguay\"]\n",
        "lookfor = \"italy\"\n",
        "\n",
        "\n",
        "def find_things(countries, lookfor):\n",
        "  for xyz in countries:\n",
        "    if ( xyz == \"lookfor\"):\n",
        "      print(\"Hey I found \" + lookfor)\n",
        "    else:\n",
        "      print(\"No match\")\n",
        "\n",
        "\n",
        "find_things(countries, lookfor)\n"
      ]
    }
  ]
}