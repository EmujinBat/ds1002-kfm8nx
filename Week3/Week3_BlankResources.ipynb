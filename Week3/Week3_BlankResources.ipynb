{
  "cells": [
    {
      "cell_type": "markdown",
      "metadata": {
        "id": "rfJYeQZTawRV"
      },
      "source": [
        "# Week 3 - Pandas Practice!\n",
        "\n",
        "<img src=\"https://github.com/ali-rivera/Python-Support-Hours/blob/main/Week3/panda.gif?raw=1\">\n",
        "\n",
        "[gif source](https://25.media.tumblr.com/b268ecc1e1374a7b9386e98ebe623c30/tumblr_mjcpgxpPKL1rjriezo1_400.gif)\n",
        "\n",
        "\n",
        "`pandas` is a Python package that is widley used for data cleaning and wrangling in Data Science (and beyond!). It's best used on tabular data: think a table with rows and columns. Typically each row is an observation and each column is an attribute of that observation.\n",
        "\n",
        "In this example, we will look at data from police stops - where each row is 1 stop, and each column contains so desciption of that stop - like the time the stop look place, the outcome of the stop, etc.\n",
        "\n",
        "We will explore a few common data cleaning practices using pandas functions and use pandas documentation to guide us - *remember the using documentation is a critical data science skill* and part of the process!"
      ]
    },
    {
      "cell_type": "markdown",
      "metadata": {
        "id": "OZl14LPlawRW"
      },
      "source": [
        "The dataset here comes from [Kaggle](https://www.kaggle.com/datasets/melihkanbay/police) and is intended to be used to practice using pandas."
      ]
    },
    {
      "cell_type": "code",
      "execution_count": 3,
      "metadata": {
        "id": "5N41t-6tawRX",
        "outputId": "a474b9d7-7dec-4770-a94b-35a0475468c1",
        "colab": {
          "base_uri": "https://localhost:8080/"
        }
      },
      "outputs": [
        {
          "output_type": "stream",
          "name": "stdout",
          "text": [
            "Mounted at /content/drive/\n"
          ]
        }
      ],
      "source": [
        "# if using Google Collab - uncomment the following lines and run them.\n",
        "#\n",
        "# You'll also need to add the entire path of your data file in your google drive.\n",
        "#     > You can use the 'files' tab on the left to find your data file, then right click and copy path to get the entire path\n",
        "#     > Pass the path in \"\" inside the parameters when you read in the data.\n",
        "\n",
        "\n",
        "from google.colab import drive\n",
        "drive.mount('/content/drive/',  force_remount=True)\n",
        "import pandas as pd\n",
        "import numpy as np"
      ]
    },
    {
      "cell_type": "markdown",
      "metadata": {
        "id": "K__hZcCGawRX"
      },
      "source": [
        "[![Open In Colab](https://colab.research.google.com/assets/colab-badge.svg)](https://colab.research.google.com/github/ali-rivera/Python-Support-Hours/blob/main/Week3/Week3_BlankResources.ipynb)"
      ]
    },
    {
      "cell_type": "markdown",
      "metadata": {
        "id": "ZD1aRAmAawRX"
      },
      "source": [
        "## Read in data"
      ]
    },
    {
      "cell_type": "code",
      "source": [
        "data = pd.read_csv(\"police.csv\")\n",
        "data\n",
        "clean_data = data.drop(columns=[\"driver_age_raw\",\"county_name\"])\n",
        "clean_data\n",
        "clean_data.columns\n",
        "rename_dict = {'stop_date':\"date\",\n",
        "               'stop_time':\"time\",\n",
        "               'driver_gender':\"gender\",\n",
        "               'driver_age':\"age\",\n",
        "               'driver_race':\"race\",\n",
        "               'stop_outcome':\"outcome\",\n",
        "              'stop_duration':\"duration\",\n",
        "              'drugs_related_stop':\"stop\"}\n",
        "clean_data.rename(columns=rename_dict,inplace=True). #if you don't put inplace=True, it won't actually change the data"
      ],
      "metadata": {
        "id": "_wwiwAPfb8Xe"
      },
      "execution_count": 10,
      "outputs": []
    },
    {
      "cell_type": "markdown",
      "metadata": {
        "id": "I8bVSfC-awRY"
      },
      "source": [
        "## Drop Redundant Columns"
      ]
    },
    {
      "cell_type": "markdown",
      "metadata": {
        "id": "q3khC6b3awRY"
      },
      "source": [
        "## Rename for easier indexing"
      ]
    },
    {
      "cell_type": "markdown",
      "metadata": {
        "id": "YrWsIdebawRY"
      },
      "source": [
        "## Correct dtypes"
      ]
    },
    {
      "cell_type": "code",
      "source": [
        "clean_data.info()\n",
        "clean_data.is_arrested = clean_data.is_arrested.astype(\"bool\", inplace)"
      ],
      "metadata": {
        "id": "GvN3L4TneffF",
        "outputId": "565a683d-472b-422d-c425-c29d466d42b5",
        "colab": {
          "base_uri": "https://localhost:8080/",
          "height": 554
        }
      },
      "execution_count": 19,
      "outputs": [
        {
          "output_type": "stream",
          "name": "stdout",
          "text": [
            "<class 'pandas.core.frame.DataFrame'>\n",
            "RangeIndex: 91741 entries, 0 to 91740\n",
            "Data columns (total 13 columns):\n",
            " #   Column            Non-Null Count  Dtype   \n",
            "---  ------            --------------  -----   \n",
            " 0   date              91741 non-null  object  \n",
            " 1   time              91741 non-null  object  \n",
            " 2   gender            86406 non-null  category\n",
            " 3   age               86120 non-null  float64 \n",
            " 4   race              86408 non-null  category\n",
            " 5   violation_raw     86408 non-null  object  \n",
            " 6   violation         86408 non-null  category\n",
            " 7   search_conducted  91741 non-null  bool    \n",
            " 8   search_type       3196 non-null   object  \n",
            " 9   outcome           86408 non-null  category\n",
            " 10  is_arrested       86408 non-null  object  \n",
            " 11  duration          86408 non-null  object  \n",
            " 12  stop              91741 non-null  bool    \n",
            "dtypes: bool(2), category(4), float64(1), object(6)\n",
            "memory usage: 5.4+ MB\n"
          ]
        },
        {
          "output_type": "error",
          "ename": "NameError",
          "evalue": "ignored",
          "traceback": [
            "\u001b[0;31m---------------------------------------------------------------------------\u001b[0m",
            "\u001b[0;31mNameError\u001b[0m                                 Traceback (most recent call last)",
            "\u001b[0;32m<ipython-input-19-d7ee78482a73>\u001b[0m in \u001b[0;36m<cell line: 2>\u001b[0;34m()\u001b[0m\n\u001b[1;32m      1\u001b[0m \u001b[0mclean_data\u001b[0m\u001b[0;34m.\u001b[0m\u001b[0minfo\u001b[0m\u001b[0;34m(\u001b[0m\u001b[0;34m)\u001b[0m\u001b[0;34m\u001b[0m\u001b[0;34m\u001b[0m\u001b[0m\n\u001b[0;32m----> 2\u001b[0;31m \u001b[0mclean_data\u001b[0m\u001b[0;34m.\u001b[0m\u001b[0mis_arrested\u001b[0m \u001b[0;34m=\u001b[0m \u001b[0mclean_data\u001b[0m\u001b[0;34m.\u001b[0m\u001b[0mis_arrested\u001b[0m\u001b[0;34m.\u001b[0m\u001b[0mastype\u001b[0m\u001b[0;34m(\u001b[0m\u001b[0;34m\"bool\"\u001b[0m\u001b[0;34m,\u001b[0m \u001b[0minplace\u001b[0m\u001b[0;34m)\u001b[0m\u001b[0;34m\u001b[0m\u001b[0;34m\u001b[0m\u001b[0m\n\u001b[0m",
            "\u001b[0;31mNameError\u001b[0m: name 'inplace' is not defined"
          ]
        }
      ]
    },
    {
      "cell_type": "code",
      "source": [
        "cat_cols = [\"gender\", \"race\", \"violation\", \"outcome\"]\n",
        "clean_data[cat_cols] = clean_data[cat_cols].astype(\"category\")"
      ],
      "metadata": {
        "id": "BL_rDAYxgJDj"
      },
      "execution_count": 16,
      "outputs": []
    },
    {
      "cell_type": "code",
      "source": [],
      "metadata": {
        "id": "qxW4dd92efZe"
      },
      "execution_count": null,
      "outputs": []
    },
    {
      "cell_type": "markdown",
      "metadata": {
        "id": "k2kpNLNZawRY"
      },
      "source": [
        "## Check null values across columns - decide what to keep and what to get rid of"
      ]
    },
    {
      "cell_type": "code",
      "source": [
        "clean_data.search_conducted.sum() #True is 1. sum will give us how many true's.\n",
        "clean_data.search_conducted.value_counts()"
      ],
      "metadata": {
        "id": "221Z3SRkhRPp",
        "outputId": "a754fb7f-6983-4717-bda9-e9b322ff16f0",
        "colab": {
          "base_uri": "https://localhost:8080/"
        }
      },
      "execution_count": 23,
      "outputs": [
        {
          "output_type": "execute_result",
          "data": {
            "text/plain": [
              "False    88545\n",
              "True      3196\n",
              "Name: search_conducted, dtype: int64"
            ]
          },
          "metadata": {},
          "execution_count": 23
        }
      ]
    },
    {
      "cell_type": "code",
      "source": [
        "clean_data[(clean_data.search_conducted == True) & (pd.notna(clean_data.search_type))] #only getting the not null one."
      ],
      "metadata": {
        "id": "3hQgdc2chkit",
        "outputId": "bf8af1fd-007c-47ae-8c3f-63d2c68b94c3",
        "colab": {
          "base_uri": "https://localhost:8080/",
          "height": 652
        }
      },
      "execution_count": 26,
      "outputs": [
        {
          "output_type": "execute_result",
          "data": {
            "text/plain": [
              "             date   time gender   age      race  \\\n",
              "24     2005-08-28  01:00      M  26.0     White   \n",
              "40     2005-10-01  00:00      M  17.0     White   \n",
              "41     2005-10-01  00:00      M  17.0     White   \n",
              "80     2005-10-02  09:30      M  30.0     White   \n",
              "106    2005-10-03  14:00      M  27.0     Black   \n",
              "...           ...    ...    ...   ...       ...   \n",
              "91494  2015-12-18  09:30      M  49.0     White   \n",
              "91548  2015-12-21  01:39      M  29.0     White   \n",
              "91672  2015-12-28  11:05      F  19.0     White   \n",
              "91700  2015-12-30  08:51      F  28.0  Hispanic   \n",
              "91708  2015-12-30  13:15      M  23.0     White   \n",
              "\n",
              "                        violation_raw            violation  search_conducted  \\\n",
              "24            Other Traffic Violation     Moving violation              True   \n",
              "40     Equipment/Inspection Violation            Equipment              True   \n",
              "41     Equipment/Inspection Violation            Equipment              True   \n",
              "80                           Speeding             Speeding              True   \n",
              "106    Equipment/Inspection Violation            Equipment              True   \n",
              "...                               ...                  ...               ...   \n",
              "91494          Registration Violation  Registration/plates              True   \n",
              "91548         Other Traffic Violation     Moving violation              True   \n",
              "91672                             APB                Other              True   \n",
              "91700                        Speeding             Speeding              True   \n",
              "91708              Seatbelt Violation            Seat belt              True   \n",
              "\n",
              "                               search_type           outcome is_arrested  \\\n",
              "24     Incident to Arrest,Protective Frisk     Arrest Driver        True   \n",
              "40                          Probable Cause     Arrest Driver        True   \n",
              "41                          Probable Cause          Citation       False   \n",
              "80                      Incident to Arrest     Arrest Driver        True   \n",
              "106                         Probable Cause          Citation       False   \n",
              "...                                    ...               ...         ...   \n",
              "91494                   Incident to Arrest         No Action       False   \n",
              "91548                   Incident to Arrest          Citation       False   \n",
              "91672                   Incident to Arrest          Citation       False   \n",
              "91700  Probable Cause,Reasonable Suspicion          Citation       False   \n",
              "91708                   Incident to Arrest  Arrest Passenger        True   \n",
              "\n",
              "        duration   stop  \n",
              "24     16-30 Min  False  \n",
              "40     16-30 Min   True  \n",
              "41       30+ Min   True  \n",
              "80       30+ Min  False  \n",
              "106    16-30 Min  False  \n",
              "...          ...    ...  \n",
              "91494  16-30 Min  False  \n",
              "91548   0-15 Min  False  \n",
              "91672  16-30 Min   True  \n",
              "91700    30+ Min   True  \n",
              "91708  16-30 Min  False  \n",
              "\n",
              "[3196 rows x 13 columns]"
            ],
            "text/html": [
              "\n",
              "  <div id=\"df-b6f1b0ef-8f11-4c19-9eed-2c863bd7c764\" class=\"colab-df-container\">\n",
              "    <div>\n",
              "<style scoped>\n",
              "    .dataframe tbody tr th:only-of-type {\n",
              "        vertical-align: middle;\n",
              "    }\n",
              "\n",
              "    .dataframe tbody tr th {\n",
              "        vertical-align: top;\n",
              "    }\n",
              "\n",
              "    .dataframe thead th {\n",
              "        text-align: right;\n",
              "    }\n",
              "</style>\n",
              "<table border=\"1\" class=\"dataframe\">\n",
              "  <thead>\n",
              "    <tr style=\"text-align: right;\">\n",
              "      <th></th>\n",
              "      <th>date</th>\n",
              "      <th>time</th>\n",
              "      <th>gender</th>\n",
              "      <th>age</th>\n",
              "      <th>race</th>\n",
              "      <th>violation_raw</th>\n",
              "      <th>violation</th>\n",
              "      <th>search_conducted</th>\n",
              "      <th>search_type</th>\n",
              "      <th>outcome</th>\n",
              "      <th>is_arrested</th>\n",
              "      <th>duration</th>\n",
              "      <th>stop</th>\n",
              "    </tr>\n",
              "  </thead>\n",
              "  <tbody>\n",
              "    <tr>\n",
              "      <th>24</th>\n",
              "      <td>2005-08-28</td>\n",
              "      <td>01:00</td>\n",
              "      <td>M</td>\n",
              "      <td>26.0</td>\n",
              "      <td>White</td>\n",
              "      <td>Other Traffic Violation</td>\n",
              "      <td>Moving violation</td>\n",
              "      <td>True</td>\n",
              "      <td>Incident to Arrest,Protective Frisk</td>\n",
              "      <td>Arrest Driver</td>\n",
              "      <td>True</td>\n",
              "      <td>16-30 Min</td>\n",
              "      <td>False</td>\n",
              "    </tr>\n",
              "    <tr>\n",
              "      <th>40</th>\n",
              "      <td>2005-10-01</td>\n",
              "      <td>00:00</td>\n",
              "      <td>M</td>\n",
              "      <td>17.0</td>\n",
              "      <td>White</td>\n",
              "      <td>Equipment/Inspection Violation</td>\n",
              "      <td>Equipment</td>\n",
              "      <td>True</td>\n",
              "      <td>Probable Cause</td>\n",
              "      <td>Arrest Driver</td>\n",
              "      <td>True</td>\n",
              "      <td>16-30 Min</td>\n",
              "      <td>True</td>\n",
              "    </tr>\n",
              "    <tr>\n",
              "      <th>41</th>\n",
              "      <td>2005-10-01</td>\n",
              "      <td>00:00</td>\n",
              "      <td>M</td>\n",
              "      <td>17.0</td>\n",
              "      <td>White</td>\n",
              "      <td>Equipment/Inspection Violation</td>\n",
              "      <td>Equipment</td>\n",
              "      <td>True</td>\n",
              "      <td>Probable Cause</td>\n",
              "      <td>Citation</td>\n",
              "      <td>False</td>\n",
              "      <td>30+ Min</td>\n",
              "      <td>True</td>\n",
              "    </tr>\n",
              "    <tr>\n",
              "      <th>80</th>\n",
              "      <td>2005-10-02</td>\n",
              "      <td>09:30</td>\n",
              "      <td>M</td>\n",
              "      <td>30.0</td>\n",
              "      <td>White</td>\n",
              "      <td>Speeding</td>\n",
              "      <td>Speeding</td>\n",
              "      <td>True</td>\n",
              "      <td>Incident to Arrest</td>\n",
              "      <td>Arrest Driver</td>\n",
              "      <td>True</td>\n",
              "      <td>30+ Min</td>\n",
              "      <td>False</td>\n",
              "    </tr>\n",
              "    <tr>\n",
              "      <th>106</th>\n",
              "      <td>2005-10-03</td>\n",
              "      <td>14:00</td>\n",
              "      <td>M</td>\n",
              "      <td>27.0</td>\n",
              "      <td>Black</td>\n",
              "      <td>Equipment/Inspection Violation</td>\n",
              "      <td>Equipment</td>\n",
              "      <td>True</td>\n",
              "      <td>Probable Cause</td>\n",
              "      <td>Citation</td>\n",
              "      <td>False</td>\n",
              "      <td>16-30 Min</td>\n",
              "      <td>False</td>\n",
              "    </tr>\n",
              "    <tr>\n",
              "      <th>...</th>\n",
              "      <td>...</td>\n",
              "      <td>...</td>\n",
              "      <td>...</td>\n",
              "      <td>...</td>\n",
              "      <td>...</td>\n",
              "      <td>...</td>\n",
              "      <td>...</td>\n",
              "      <td>...</td>\n",
              "      <td>...</td>\n",
              "      <td>...</td>\n",
              "      <td>...</td>\n",
              "      <td>...</td>\n",
              "      <td>...</td>\n",
              "    </tr>\n",
              "    <tr>\n",
              "      <th>91494</th>\n",
              "      <td>2015-12-18</td>\n",
              "      <td>09:30</td>\n",
              "      <td>M</td>\n",
              "      <td>49.0</td>\n",
              "      <td>White</td>\n",
              "      <td>Registration Violation</td>\n",
              "      <td>Registration/plates</td>\n",
              "      <td>True</td>\n",
              "      <td>Incident to Arrest</td>\n",
              "      <td>No Action</td>\n",
              "      <td>False</td>\n",
              "      <td>16-30 Min</td>\n",
              "      <td>False</td>\n",
              "    </tr>\n",
              "    <tr>\n",
              "      <th>91548</th>\n",
              "      <td>2015-12-21</td>\n",
              "      <td>01:39</td>\n",
              "      <td>M</td>\n",
              "      <td>29.0</td>\n",
              "      <td>White</td>\n",
              "      <td>Other Traffic Violation</td>\n",
              "      <td>Moving violation</td>\n",
              "      <td>True</td>\n",
              "      <td>Incident to Arrest</td>\n",
              "      <td>Citation</td>\n",
              "      <td>False</td>\n",
              "      <td>0-15 Min</td>\n",
              "      <td>False</td>\n",
              "    </tr>\n",
              "    <tr>\n",
              "      <th>91672</th>\n",
              "      <td>2015-12-28</td>\n",
              "      <td>11:05</td>\n",
              "      <td>F</td>\n",
              "      <td>19.0</td>\n",
              "      <td>White</td>\n",
              "      <td>APB</td>\n",
              "      <td>Other</td>\n",
              "      <td>True</td>\n",
              "      <td>Incident to Arrest</td>\n",
              "      <td>Citation</td>\n",
              "      <td>False</td>\n",
              "      <td>16-30 Min</td>\n",
              "      <td>True</td>\n",
              "    </tr>\n",
              "    <tr>\n",
              "      <th>91700</th>\n",
              "      <td>2015-12-30</td>\n",
              "      <td>08:51</td>\n",
              "      <td>F</td>\n",
              "      <td>28.0</td>\n",
              "      <td>Hispanic</td>\n",
              "      <td>Speeding</td>\n",
              "      <td>Speeding</td>\n",
              "      <td>True</td>\n",
              "      <td>Probable Cause,Reasonable Suspicion</td>\n",
              "      <td>Citation</td>\n",
              "      <td>False</td>\n",
              "      <td>30+ Min</td>\n",
              "      <td>True</td>\n",
              "    </tr>\n",
              "    <tr>\n",
              "      <th>91708</th>\n",
              "      <td>2015-12-30</td>\n",
              "      <td>13:15</td>\n",
              "      <td>M</td>\n",
              "      <td>23.0</td>\n",
              "      <td>White</td>\n",
              "      <td>Seatbelt Violation</td>\n",
              "      <td>Seat belt</td>\n",
              "      <td>True</td>\n",
              "      <td>Incident to Arrest</td>\n",
              "      <td>Arrest Passenger</td>\n",
              "      <td>True</td>\n",
              "      <td>16-30 Min</td>\n",
              "      <td>False</td>\n",
              "    </tr>\n",
              "  </tbody>\n",
              "</table>\n",
              "<p>3196 rows × 13 columns</p>\n",
              "</div>\n",
              "    <div class=\"colab-df-buttons\">\n",
              "\n",
              "  <div class=\"colab-df-container\">\n",
              "    <button class=\"colab-df-convert\" onclick=\"convertToInteractive('df-b6f1b0ef-8f11-4c19-9eed-2c863bd7c764')\"\n",
              "            title=\"Convert this dataframe to an interactive table.\"\n",
              "            style=\"display:none;\">\n",
              "\n",
              "  <svg xmlns=\"http://www.w3.org/2000/svg\" height=\"24px\" viewBox=\"0 -960 960 960\">\n",
              "    <path d=\"M120-120v-720h720v720H120Zm60-500h600v-160H180v160Zm220 220h160v-160H400v160Zm0 220h160v-160H400v160ZM180-400h160v-160H180v160Zm440 0h160v-160H620v160ZM180-180h160v-160H180v160Zm440 0h160v-160H620v160Z\"/>\n",
              "  </svg>\n",
              "    </button>\n",
              "\n",
              "  <style>\n",
              "    .colab-df-container {\n",
              "      display:flex;\n",
              "      gap: 12px;\n",
              "    }\n",
              "\n",
              "    .colab-df-convert {\n",
              "      background-color: #E8F0FE;\n",
              "      border: none;\n",
              "      border-radius: 50%;\n",
              "      cursor: pointer;\n",
              "      display: none;\n",
              "      fill: #1967D2;\n",
              "      height: 32px;\n",
              "      padding: 0 0 0 0;\n",
              "      width: 32px;\n",
              "    }\n",
              "\n",
              "    .colab-df-convert:hover {\n",
              "      background-color: #E2EBFA;\n",
              "      box-shadow: 0px 1px 2px rgba(60, 64, 67, 0.3), 0px 1px 3px 1px rgba(60, 64, 67, 0.15);\n",
              "      fill: #174EA6;\n",
              "    }\n",
              "\n",
              "    .colab-df-buttons div {\n",
              "      margin-bottom: 4px;\n",
              "    }\n",
              "\n",
              "    [theme=dark] .colab-df-convert {\n",
              "      background-color: #3B4455;\n",
              "      fill: #D2E3FC;\n",
              "    }\n",
              "\n",
              "    [theme=dark] .colab-df-convert:hover {\n",
              "      background-color: #434B5C;\n",
              "      box-shadow: 0px 1px 3px 1px rgba(0, 0, 0, 0.15);\n",
              "      filter: drop-shadow(0px 1px 2px rgba(0, 0, 0, 0.3));\n",
              "      fill: #FFFFFF;\n",
              "    }\n",
              "  </style>\n",
              "\n",
              "    <script>\n",
              "      const buttonEl =\n",
              "        document.querySelector('#df-b6f1b0ef-8f11-4c19-9eed-2c863bd7c764 button.colab-df-convert');\n",
              "      buttonEl.style.display =\n",
              "        google.colab.kernel.accessAllowed ? 'block' : 'none';\n",
              "\n",
              "      async function convertToInteractive(key) {\n",
              "        const element = document.querySelector('#df-b6f1b0ef-8f11-4c19-9eed-2c863bd7c764');\n",
              "        const dataTable =\n",
              "          await google.colab.kernel.invokeFunction('convertToInteractive',\n",
              "                                                    [key], {});\n",
              "        if (!dataTable) return;\n",
              "\n",
              "        const docLinkHtml = 'Like what you see? Visit the ' +\n",
              "          '<a target=\"_blank\" href=https://colab.research.google.com/notebooks/data_table.ipynb>data table notebook</a>'\n",
              "          + ' to learn more about interactive tables.';\n",
              "        element.innerHTML = '';\n",
              "        dataTable['output_type'] = 'display_data';\n",
              "        await google.colab.output.renderOutput(dataTable, element);\n",
              "        const docLink = document.createElement('div');\n",
              "        docLink.innerHTML = docLinkHtml;\n",
              "        element.appendChild(docLink);\n",
              "      }\n",
              "    </script>\n",
              "  </div>\n",
              "\n",
              "\n",
              "<div id=\"df-7bbecb76-8456-45b1-99a6-a36e9b0e5ff7\">\n",
              "  <button class=\"colab-df-quickchart\" onclick=\"quickchart('df-7bbecb76-8456-45b1-99a6-a36e9b0e5ff7')\"\n",
              "            title=\"Suggest charts.\"\n",
              "            style=\"display:none;\">\n",
              "\n",
              "<svg xmlns=\"http://www.w3.org/2000/svg\" height=\"24px\"viewBox=\"0 0 24 24\"\n",
              "     width=\"24px\">\n",
              "    <g>\n",
              "        <path d=\"M19 3H5c-1.1 0-2 .9-2 2v14c0 1.1.9 2 2 2h14c1.1 0 2-.9 2-2V5c0-1.1-.9-2-2-2zM9 17H7v-7h2v7zm4 0h-2V7h2v10zm4 0h-2v-4h2v4z\"/>\n",
              "    </g>\n",
              "</svg>\n",
              "  </button>\n",
              "\n",
              "<style>\n",
              "  .colab-df-quickchart {\n",
              "      --bg-color: #E8F0FE;\n",
              "      --fill-color: #1967D2;\n",
              "      --hover-bg-color: #E2EBFA;\n",
              "      --hover-fill-color: #174EA6;\n",
              "      --disabled-fill-color: #AAA;\n",
              "      --disabled-bg-color: #DDD;\n",
              "  }\n",
              "\n",
              "  [theme=dark] .colab-df-quickchart {\n",
              "      --bg-color: #3B4455;\n",
              "      --fill-color: #D2E3FC;\n",
              "      --hover-bg-color: #434B5C;\n",
              "      --hover-fill-color: #FFFFFF;\n",
              "      --disabled-bg-color: #3B4455;\n",
              "      --disabled-fill-color: #666;\n",
              "  }\n",
              "\n",
              "  .colab-df-quickchart {\n",
              "    background-color: var(--bg-color);\n",
              "    border: none;\n",
              "    border-radius: 50%;\n",
              "    cursor: pointer;\n",
              "    display: none;\n",
              "    fill: var(--fill-color);\n",
              "    height: 32px;\n",
              "    padding: 0;\n",
              "    width: 32px;\n",
              "  }\n",
              "\n",
              "  .colab-df-quickchart:hover {\n",
              "    background-color: var(--hover-bg-color);\n",
              "    box-shadow: 0 1px 2px rgba(60, 64, 67, 0.3), 0 1px 3px 1px rgba(60, 64, 67, 0.15);\n",
              "    fill: var(--button-hover-fill-color);\n",
              "  }\n",
              "\n",
              "  .colab-df-quickchart-complete:disabled,\n",
              "  .colab-df-quickchart-complete:disabled:hover {\n",
              "    background-color: var(--disabled-bg-color);\n",
              "    fill: var(--disabled-fill-color);\n",
              "    box-shadow: none;\n",
              "  }\n",
              "\n",
              "  .colab-df-spinner {\n",
              "    border: 2px solid var(--fill-color);\n",
              "    border-color: transparent;\n",
              "    border-bottom-color: var(--fill-color);\n",
              "    animation:\n",
              "      spin 1s steps(1) infinite;\n",
              "  }\n",
              "\n",
              "  @keyframes spin {\n",
              "    0% {\n",
              "      border-color: transparent;\n",
              "      border-bottom-color: var(--fill-color);\n",
              "      border-left-color: var(--fill-color);\n",
              "    }\n",
              "    20% {\n",
              "      border-color: transparent;\n",
              "      border-left-color: var(--fill-color);\n",
              "      border-top-color: var(--fill-color);\n",
              "    }\n",
              "    30% {\n",
              "      border-color: transparent;\n",
              "      border-left-color: var(--fill-color);\n",
              "      border-top-color: var(--fill-color);\n",
              "      border-right-color: var(--fill-color);\n",
              "    }\n",
              "    40% {\n",
              "      border-color: transparent;\n",
              "      border-right-color: var(--fill-color);\n",
              "      border-top-color: var(--fill-color);\n",
              "    }\n",
              "    60% {\n",
              "      border-color: transparent;\n",
              "      border-right-color: var(--fill-color);\n",
              "    }\n",
              "    80% {\n",
              "      border-color: transparent;\n",
              "      border-right-color: var(--fill-color);\n",
              "      border-bottom-color: var(--fill-color);\n",
              "    }\n",
              "    90% {\n",
              "      border-color: transparent;\n",
              "      border-bottom-color: var(--fill-color);\n",
              "    }\n",
              "  }\n",
              "</style>\n",
              "\n",
              "  <script>\n",
              "    async function quickchart(key) {\n",
              "      const quickchartButtonEl =\n",
              "        document.querySelector('#' + key + ' button');\n",
              "      quickchartButtonEl.disabled = true;  // To prevent multiple clicks.\n",
              "      quickchartButtonEl.classList.add('colab-df-spinner');\n",
              "      try {\n",
              "        const charts = await google.colab.kernel.invokeFunction(\n",
              "            'suggestCharts', [key], {});\n",
              "      } catch (error) {\n",
              "        console.error('Error during call to suggestCharts:', error);\n",
              "      }\n",
              "      quickchartButtonEl.classList.remove('colab-df-spinner');\n",
              "      quickchartButtonEl.classList.add('colab-df-quickchart-complete');\n",
              "    }\n",
              "    (() => {\n",
              "      let quickchartButtonEl =\n",
              "        document.querySelector('#df-7bbecb76-8456-45b1-99a6-a36e9b0e5ff7 button');\n",
              "      quickchartButtonEl.style.display =\n",
              "        google.colab.kernel.accessAllowed ? 'block' : 'none';\n",
              "    })();\n",
              "  </script>\n",
              "</div>\n",
              "    </div>\n",
              "  </div>\n"
            ]
          },
          "metadata": {},
          "execution_count": 26
        }
      ]
    },
    {
      "cell_type": "markdown",
      "metadata": {
        "id": "bFm0CELjawRY"
      },
      "source": [
        "## Seperate search & non-search stops"
      ]
    },
    {
      "cell_type": "markdown",
      "metadata": {
        "id": "27XbRK0DawRY"
      },
      "source": [
        "## Grouping and aggregating"
      ]
    },
    {
      "cell_type": "markdown",
      "metadata": {
        "id": "DjNiyZnUawRY"
      },
      "source": [
        "## Next Steps\n",
        "\n",
        "Try some of the following (open ended) things on your own:\n",
        "- Pick a demographic (a certain age range, a race, a gender) and a metric (stop_duration, time of day, outcome, etc). Try to filter on each of these things in 2 different ways.\n",
        "- `age` is a numeric value. We may want to see the range of ages we have in our dataset. Find a pandas function to get summary statistics on the age variable.\n",
        "    - Bonus: make a histogram of the age distribution!\n",
        "- Make age categorical instead of numerical. Pick any number of categories you'd like and the cutoffs. Hint: this is called 'binning' and there is a function to do it! You could also do this with `time`...\n",
        "    - suggestions: 3 categories - young, middle_aged, and old; by 10s: 10-19, 20-19, 30-39, etc.\n",
        "- Pick a demographic and *annonomize* it. For example: replace the `gender` category with A/B instead of M/F.\n"
      ]
    }
  ],
  "metadata": {
    "kernelspec": {
      "display_name": "base",
      "language": "python",
      "name": "python3"
    },
    "language_info": {
      "codemirror_mode": {
        "name": "ipython",
        "version": 3
      },
      "file_extension": ".py",
      "mimetype": "text/x-python",
      "name": "python",
      "nbconvert_exporter": "python",
      "pygments_lexer": "ipython3",
      "version": "3.11.4"
    },
    "orig_nbformat": 4,
    "colab": {
      "provenance": []
    }
  },
  "nbformat": 4,
  "nbformat_minor": 0
}