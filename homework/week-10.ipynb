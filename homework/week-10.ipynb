{
  "nbformat": 4,
  "nbformat_minor": 0,
  "metadata": {
    "colab": {
      "provenance": [],
      "include_colab_link": true
    },
    "kernelspec": {
      "name": "python3",
      "display_name": "Python 3"
    },
    "language_info": {
      "name": "python"
    }
  },
  "cells": [
    {
      "cell_type": "markdown",
      "metadata": {
        "id": "view-in-github",
        "colab_type": "text"
      },
      "source": [
        "<a href=\"https://colab.research.google.com/github/EmujinBat/ds1002-kfm8nx/blob/main/homework/week-10.ipynb\" target=\"_parent\"><img src=\"https://colab.research.google.com/assets/colab-badge.svg\" alt=\"Open In Colab\"/></a>"
      ]
    },
    {
      "cell_type": "markdown",
      "source": [
        "# Homework - Week 10\n",
        "\n",
        "Complete the following blocks as specified in the directions. Run each cell to return the desired output. Save your notebook back to your GitHub repository and submit the GitHub URL to your notebook for review."
      ],
      "metadata": {
        "id": "phbaQTT5gy8A"
      }
    },
    {
      "cell_type": "markdown",
      "source": [
        "## Class Basics\n",
        "\n",
        "Closely inspect the class below and answer the questions in the following cells."
      ],
      "metadata": {
        "id": "38Pg39pMrDua"
      }
    },
    {
      "cell_type": "code",
      "source": [
        "\n",
        "class Products:\n",
        "  def __init__(self, id, name, price, description, manufacturer):\n",
        "    self.id = id\n",
        "    self.name = name\n",
        "    self.price = price\n",
        "    self.description = description\n",
        "    self.manufacturer = manufacturer\n",
        "\n",
        "  def print_product(self):\n",
        "    print(f\"Product {self.id} is {self.name} made by {self.manufacturer}. It costs ${self.price}\")\n"
      ],
      "metadata": {
        "id": "kdFLCHtOg53p"
      },
      "execution_count": 20,
      "outputs": []
    },
    {
      "cell_type": "code",
      "source": [
        "# What are the attributes of this class?\n",
        "\n",
        "# Attributes of this class are id, name, price, description, manufacturer."
      ],
      "metadata": {
        "id": "SG85PC5Q0oSi"
      },
      "execution_count": 21,
      "outputs": []
    },
    {
      "cell_type": "code",
      "source": [
        "# In one line of code, create an instance of the class populating its attributes.\n",
        "\n",
        "instance = Products(123, \"Soap\", 7, \"Pack of 2\", \"Dove\")\n",
        "\n",
        "instance.id       # checking if it works"
      ],
      "metadata": {
        "id": "ckuUZlUc0q8D",
        "colab": {
          "base_uri": "https://localhost:8080/"
        },
        "outputId": "0f34d783-65fa-47a2-f4fc-e56a14e63672"
      },
      "execution_count": 47,
      "outputs": [
        {
          "output_type": "execute_result",
          "data": {
            "text/plain": [
              "123"
            ]
          },
          "metadata": {},
          "execution_count": 47
        }
      ]
    },
    {
      "cell_type": "code",
      "source": [
        "# Referencing the instance you just created, what code is required to print out the name of the instance?\n",
        "\n",
        "instance.name"
      ],
      "metadata": {
        "id": "Ksp2TAiM0u5t",
        "colab": {
          "base_uri": "https://localhost:8080/",
          "height": 35
        },
        "outputId": "7284ace3-28b1-4bd3-fbc2-76353f9ca412"
      },
      "execution_count": 23,
      "outputs": [
        {
          "output_type": "execute_result",
          "data": {
            "text/plain": [
              "'Soap'"
            ],
            "application/vnd.google.colaboratory.intrinsic+json": {
              "type": "string"
            }
          },
          "metadata": {},
          "execution_count": 23
        }
      ]
    },
    {
      "cell_type": "markdown",
      "source": [
        "## Class Methods"
      ],
      "metadata": {
        "id": "0jQs4JYU2Kfh"
      }
    },
    {
      "cell_type": "code",
      "source": [
        "# Using the instance you created above, call the `print_product` method properly in a line of code.\n",
        "\n",
        "instance.print_product()"
      ],
      "metadata": {
        "id": "aO-zWkhd172f",
        "colab": {
          "base_uri": "https://localhost:8080/"
        },
        "outputId": "623aec17-563a-4c8c-acd0-32388bcbe2e7"
      },
      "execution_count": 24,
      "outputs": [
        {
          "output_type": "stream",
          "name": "stdout",
          "text": [
            "Product 123 is Soap made by Dove. It costs $7\n"
          ]
        }
      ]
    },
    {
      "cell_type": "code",
      "source": [
        "# Now declare the class again (copy + paste from above). But now add a NEW method that you write.\n",
        "class Products:\n",
        "  def __init__(self, id, name, price, description, manufacturer):\n",
        "    self.id = id\n",
        "    self.name = name\n",
        "    self.price = price\n",
        "    self.description = description\n",
        "    self.manufacturer = manufacturer\n",
        "\n",
        "  def print_product(self):\n",
        "    print(f\"Product {self.id} is {self.name} made by {self.manufacturer}. It costs ${self.price}\")\n",
        "\n",
        "  def new_method(self):\n",
        "    sales_price = self.price * 0.8\n",
        "    self.sales_price = sales_price\n",
        "    print(f\"The {self.name} product by {self.manufacturer} brand is on sale for ${self.sales_price} \")\n",
        "\n",
        "# This method should create a new attribute called \"sales_price\" that is 80% of the normal price.\n",
        "\n",
        "# Finally, write this method to print out a statement like \"The ________ product is on sale for _____\"\n",
        "# where you fill in the blanks with the name and sales_price of the product."
      ],
      "metadata": {
        "id": "75apcUeJ2VQo"
      },
      "execution_count": 50,
      "outputs": []
    },
    {
      "cell_type": "code",
      "source": [
        "# Execute the class above"
      ],
      "metadata": {
        "id": "TZiNWOl_2-oh"
      },
      "execution_count": 36,
      "outputs": []
    },
    {
      "cell_type": "code",
      "source": [
        "# Now create an instance of the class with new values.\n",
        "new_instance = Products(345, \"Shampoo\", 12, \"Pack of 1\", \"Head and Shoulders\")"
      ],
      "metadata": {
        "id": "TT8qK1Ie3EVX"
      },
      "execution_count": 48,
      "outputs": []
    },
    {
      "cell_type": "code",
      "source": [
        "# Finally, using the instance you just created, invoke the new method you wrote. Be sure it prints\n",
        "# the desired text described above.\n",
        "new_instance.new_method()"
      ],
      "metadata": {
        "id": "mobnFcMw3Icp",
        "colab": {
          "base_uri": "https://localhost:8080/"
        },
        "outputId": "a6cb0e91-3bee-4de8-c268-8d6c4020fe62"
      },
      "execution_count": 49,
      "outputs": [
        {
          "output_type": "stream",
          "name": "stdout",
          "text": [
            "The Shampoo product by Head and Shoulders brand is on sale for $9.600000000000001 \n",
            "The Soap product by Dove brand is on sale for $5.6000000000000005 \n"
          ]
        }
      ]
    }
  ]
}