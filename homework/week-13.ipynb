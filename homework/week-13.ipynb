{
  "nbformat": 4,
  "nbformat_minor": 0,
  "metadata": {
    "colab": {
      "provenance": [],
      "include_colab_link": true
    },
    "kernelspec": {
      "name": "ir",
      "display_name": "R"
    },
    "language_info": {
      "name": "R"
    }
  },
  "cells": [
    {
      "cell_type": "markdown",
      "metadata": {
        "id": "view-in-github",
        "colab_type": "text"
      },
      "source": [
        "<a href=\"https://colab.research.google.com/github/EmujinBat/ds1002-kfm8nx/blob/main/homework/week-13.ipynb\" target=\"_parent\"><img src=\"https://colab.research.google.com/assets/colab-badge.svg\" alt=\"Open In Colab\"/></a>"
      ]
    },
    {
      "cell_type": "markdown",
      "source": [
        "# Homework - Week 13\n",
        "\n",
        "Complete the following blocks as specified in the directions. Run each cell to return the desired output. Save your notebook back to your GitHub repository and submit the GitHub URL to your notebook for review."
      ],
      "metadata": {
        "id": "sZruw3XQogej"
      }
    },
    {
      "cell_type": "markdown",
      "source": [
        "## 1. Change Runtime to R (1 pt)\n",
        "\n",
        "Change the runtime of this notebook to R. You can verify that you are running R by displaying the current version you are running. Run the cell below and show the output."
      ],
      "metadata": {
        "id": "KmpG99aAokL9"
      }
    },
    {
      "cell_type": "code",
      "execution_count": 55,
      "metadata": {
        "id": "k03Z1NKAoZrW",
        "outputId": "3191c1a5-c4aa-4ef4-86f4-00438142cc07",
        "colab": {
          "base_uri": "https://localhost:8080/",
          "height": 285
        }
      },
      "outputs": [
        {
          "output_type": "display_data",
          "data": {
            "text/plain": [
              "               _                           \n",
              "platform       x86_64-pc-linux-gnu         \n",
              "arch           x86_64                      \n",
              "os             linux-gnu                   \n",
              "system         x86_64, linux-gnu           \n",
              "status                                     \n",
              "major          4                           \n",
              "minor          3.2                         \n",
              "year           2023                        \n",
              "month          10                          \n",
              "day            31                          \n",
              "svn rev        85441                       \n",
              "language       R                           \n",
              "version.string R version 4.3.2 (2023-10-31)\n",
              "nickname       Eye Holes                   "
            ]
          },
          "metadata": {}
        }
      ],
      "source": [
        "version"
      ]
    },
    {
      "cell_type": "markdown",
      "source": [
        "## 2. Create Vectors (2 pts)\n",
        "\n",
        "Create two vectors in the cells below, according to the prompts given."
      ],
      "metadata": {
        "id": "lkaofBQypx1X"
      }
    },
    {
      "cell_type": "code",
      "source": [
        "# create a vector with 7 integer values. Assign it to a variable named \"my_integers\"\n",
        "my_integers <- c(1, 3, 5, 7, 9, 11, 13)"
      ],
      "metadata": {
        "id": "1fjq5bkEp6Zv"
      },
      "execution_count": 56,
      "outputs": []
    },
    {
      "cell_type": "code",
      "source": [
        "var1 = 8\n",
        "var2 = 4\n",
        "var3 = 12\n",
        "var4 = 25\n",
        "\n",
        "# Using the variables given above, assign three new variables the following calculated values:\n",
        "#\n",
        "# 1. Your first variable should be assigned the calculated value of var2 divided by var1.\n",
        "# 2. Your second variable should be assigned the calculated value of var2 cubed times var3.\n",
        "# 3. Your third variable should be assigned the calculated value of var4 integer divided by var3.\n",
        "#\n",
        "# Next, create an array populated by your three variables. Assign the array to a new variable named \"my_calculated_values\""
      ],
      "metadata": {
        "id": "f3IFD-T6p6Rd"
      },
      "execution_count": 57,
      "outputs": []
    },
    {
      "cell_type": "code",
      "source": [
        "ans1 <- var2 / var1\n",
        "ans2 <- (var2 * var2 * var2) * var3\n",
        "ans3 <- var4 / var3\n",
        "\n",
        "my_calculated_values <- c(ans1, ans2, ans3)"
      ],
      "metadata": {
        "id": "P-IQ6JyaRKqE"
      },
      "execution_count": 58,
      "outputs": []
    },
    {
      "cell_type": "markdown",
      "source": [
        "## 3. Vector Indexes (3 pts)"
      ],
      "metadata": {
        "id": "F6Rx0GIGrpOB"
      }
    },
    {
      "cell_type": "markdown",
      "source": [
        "In the cell below, create a vector that starts with the integer 4, that increments by counts of 3 all the way to 28.\n",
        "\n",
        "Assign the vector to a variable name."
      ],
      "metadata": {
        "id": "IDLyOjOJsFCX"
      }
    },
    {
      "cell_type": "code",
      "source": [
        "my_var <- seq(from=4, to=28, by=3)\n",
        "my_var"
      ],
      "metadata": {
        "id": "0D5Ia-BPsoPZ",
        "outputId": "6232e788-9e72-4154-c1f9-8bf161e322a9",
        "colab": {
          "base_uri": "https://localhost:8080/",
          "height": 34
        }
      },
      "execution_count": 59,
      "outputs": [
        {
          "output_type": "display_data",
          "data": {
            "text/html": [
              "<style>\n",
              ".list-inline {list-style: none; margin:0; padding: 0}\n",
              ".list-inline>li {display: inline-block}\n",
              ".list-inline>li:not(:last-child)::after {content: \"\\00b7\"; padding: 0 .5ex}\n",
              "</style>\n",
              "<ol class=list-inline><li>4</li><li>7</li><li>10</li><li>13</li><li>16</li><li>19</li><li>22</li><li>25</li><li>28</li></ol>\n"
            ],
            "text/markdown": "1. 4\n2. 7\n3. 10\n4. 13\n5. 16\n6. 19\n7. 22\n8. 25\n9. 28\n\n\n",
            "text/latex": "\\begin{enumerate*}\n\\item 4\n\\item 7\n\\item 10\n\\item 13\n\\item 16\n\\item 19\n\\item 22\n\\item 25\n\\item 28\n\\end{enumerate*}\n",
            "text/plain": [
              "[1]  4  7 10 13 16 19 22 25 28"
            ]
          },
          "metadata": {}
        }
      ]
    },
    {
      "cell_type": "markdown",
      "source": [
        "Next, show how to display this vector with the 3 index removed."
      ],
      "metadata": {
        "id": "RxFRiRMvtfXI"
      }
    },
    {
      "cell_type": "code",
      "source": [
        "s1 <- my_var[-3]\n",
        "s1"
      ],
      "metadata": {
        "id": "MBg7V1LztQlv",
        "outputId": "61caf35d-2eae-4d42-d20f-92e2200de440",
        "colab": {
          "base_uri": "https://localhost:8080/",
          "height": 34
        }
      },
      "execution_count": 60,
      "outputs": [
        {
          "output_type": "display_data",
          "data": {
            "text/html": [
              "<style>\n",
              ".list-inline {list-style: none; margin:0; padding: 0}\n",
              ".list-inline>li {display: inline-block}\n",
              ".list-inline>li:not(:last-child)::after {content: \"\\00b7\"; padding: 0 .5ex}\n",
              "</style>\n",
              "<ol class=list-inline><li>4</li><li>7</li><li>13</li><li>16</li><li>19</li><li>22</li><li>25</li><li>28</li></ol>\n"
            ],
            "text/markdown": "1. 4\n2. 7\n3. 13\n4. 16\n5. 19\n6. 22\n7. 25\n8. 28\n\n\n",
            "text/latex": "\\begin{enumerate*}\n\\item 4\n\\item 7\n\\item 13\n\\item 16\n\\item 19\n\\item 22\n\\item 25\n\\item 28\n\\end{enumerate*}\n",
            "text/plain": [
              "[1]  4  7 13 16 19 22 25 28"
            ]
          },
          "metadata": {}
        }
      ]
    },
    {
      "cell_type": "markdown",
      "source": [
        "Finally, show how to delete the 4th, 5th, and 7th indexes from the vector and\n",
        "\n",
        "---\n",
        "\n",
        "update the vector so they are forever removed from the vector.\n",
        "\n",
        "Hint: there is a fairly simple way to do this in one line, such that you don't have to run a separate command for each removal."
      ],
      "metadata": {
        "id": "Rmci-rVCtq-C"
      }
    },
    {
      "cell_type": "code",
      "source": [
        "my_var <- my_var[-c(4,5,7)]\n",
        "my_var"
      ],
      "metadata": {
        "id": "y1k0NHNruFX2",
        "outputId": "75b9f028-07c4-4887-e3a2-9807cbdea73f",
        "colab": {
          "base_uri": "https://localhost:8080/",
          "height": 34
        }
      },
      "execution_count": 61,
      "outputs": [
        {
          "output_type": "display_data",
          "data": {
            "text/html": [
              "<style>\n",
              ".list-inline {list-style: none; margin:0; padding: 0}\n",
              ".list-inline>li {display: inline-block}\n",
              ".list-inline>li:not(:last-child)::after {content: \"\\00b7\"; padding: 0 .5ex}\n",
              "</style>\n",
              "<ol class=list-inline><li>4</li><li>7</li><li>10</li><li>19</li><li>25</li><li>28</li></ol>\n"
            ],
            "text/markdown": "1. 4\n2. 7\n3. 10\n4. 19\n5. 25\n6. 28\n\n\n",
            "text/latex": "\\begin{enumerate*}\n\\item 4\n\\item 7\n\\item 10\n\\item 19\n\\item 25\n\\item 28\n\\end{enumerate*}\n",
            "text/plain": [
              "[1]  4  7 10 19 25 28"
            ]
          },
          "metadata": {}
        }
      ]
    },
    {
      "cell_type": "markdown",
      "source": [
        "## 4. Create a Data Frame (3 pts)\n",
        "\n",
        "In the cell below create a data frame with 10 observations (rows) and 5 variables (columns) each. This data frame will describe some of your favorite musical performers. You can use real or fictitious data to populate your data frame.\n",
        "\n",
        "Variables:\n",
        "  - `artist` - Artist or band name\n",
        "  - `category` - Rock, Pop, Country, Hip-hop, Jazz, Classical, Soul, Other. (Try to distribute your selections here)\n",
        "  - `size` - (number of members, 1-?)\n",
        "  - `start` - Debut year of artist.\n",
        "  - `grammy` - Grammmy winner? `TRUE` | `FALSE`\n",
        "\n",
        "First create vectors for each variable populated with your own performer data. Then create a data frame from these vectors (be sure to assign column names too) and assign it to a named variable such as `df`."
      ],
      "metadata": {
        "id": "-2ZaFcCCv3o8"
      }
    },
    {
      "cell_type": "code",
      "source": [
        "artist <- c(\"Billie Eilish\", \"Cig after sex\", \"Lana Del Rey\", \"Central Cee\", \"Drake\", \"Kanye West\", \"Ariana Grande\", \"Selena Gomez\", \"Justin Bieber\", \"Weeknd\")\n",
        "category <- c(\"Pop\", \"Pop\", \"Pop\", \"Rap\", \"Rap\", \"Rap\", \"Pop\", \"Pop\", \"Pop\", \"Pop\")\n",
        "size <- c(1, 5, 1, 1, 1, 1, 1, 1, 1, 1)\n",
        "start <- c(2015, 2008, 2005, 2020, 2006, 2002, 2006, 2002, 2009, 2013)\n",
        "grammy <- c(TRUE, TRUE, FALSE, TRUE, FALSE, TRUE, TRUE, FALSE, TRUE, TRUE)\n",
        "df <- data.frame(Artist = artist, Category = category, Members = size, DebutYear = start, GrammyWinner = grammy)\n",
        "\n",
        "df"
      ],
      "metadata": {
        "id": "V4nBsdVsyauQ",
        "outputId": "082e7df0-a365-4c22-ecf2-d5f76fef9373",
        "colab": {
          "base_uri": "https://localhost:8080/",
          "height": 412
        }
      },
      "execution_count": 62,
      "outputs": [
        {
          "output_type": "display_data",
          "data": {
            "text/html": [
              "<table class=\"dataframe\">\n",
              "<caption>A data.frame: 10 × 5</caption>\n",
              "<thead>\n",
              "\t<tr><th scope=col>Artist</th><th scope=col>Category</th><th scope=col>Members</th><th scope=col>DebutYear</th><th scope=col>GrammyWinner</th></tr>\n",
              "\t<tr><th scope=col>&lt;chr&gt;</th><th scope=col>&lt;chr&gt;</th><th scope=col>&lt;dbl&gt;</th><th scope=col>&lt;dbl&gt;</th><th scope=col>&lt;lgl&gt;</th></tr>\n",
              "</thead>\n",
              "<tbody>\n",
              "\t<tr><td>Billie Eilish</td><td>Pop</td><td>1</td><td>2015</td><td> TRUE</td></tr>\n",
              "\t<tr><td>Cig after sex</td><td>Pop</td><td>5</td><td>2008</td><td> TRUE</td></tr>\n",
              "\t<tr><td>Lana Del Rey </td><td>Pop</td><td>1</td><td>2005</td><td>FALSE</td></tr>\n",
              "\t<tr><td>Central Cee  </td><td>Rap</td><td>1</td><td>2020</td><td> TRUE</td></tr>\n",
              "\t<tr><td>Drake        </td><td>Rap</td><td>1</td><td>2006</td><td>FALSE</td></tr>\n",
              "\t<tr><td>Kanye West   </td><td>Rap</td><td>1</td><td>2002</td><td> TRUE</td></tr>\n",
              "\t<tr><td>Ariana Grande</td><td>Pop</td><td>1</td><td>2006</td><td> TRUE</td></tr>\n",
              "\t<tr><td>Selena Gomez </td><td>Pop</td><td>1</td><td>2002</td><td>FALSE</td></tr>\n",
              "\t<tr><td>Justin Bieber</td><td>Pop</td><td>1</td><td>2009</td><td> TRUE</td></tr>\n",
              "\t<tr><td>Weeknd       </td><td>Pop</td><td>1</td><td>2013</td><td> TRUE</td></tr>\n",
              "</tbody>\n",
              "</table>\n"
            ],
            "text/markdown": "\nA data.frame: 10 × 5\n\n| Artist &lt;chr&gt; | Category &lt;chr&gt; | Members &lt;dbl&gt; | DebutYear &lt;dbl&gt; | GrammyWinner &lt;lgl&gt; |\n|---|---|---|---|---|\n| Billie Eilish | Pop | 1 | 2015 |  TRUE |\n| Cig after sex | Pop | 5 | 2008 |  TRUE |\n| Lana Del Rey  | Pop | 1 | 2005 | FALSE |\n| Central Cee   | Rap | 1 | 2020 |  TRUE |\n| Drake         | Rap | 1 | 2006 | FALSE |\n| Kanye West    | Rap | 1 | 2002 |  TRUE |\n| Ariana Grande | Pop | 1 | 2006 |  TRUE |\n| Selena Gomez  | Pop | 1 | 2002 | FALSE |\n| Justin Bieber | Pop | 1 | 2009 |  TRUE |\n| Weeknd        | Pop | 1 | 2013 |  TRUE |\n\n",
            "text/latex": "A data.frame: 10 × 5\n\\begin{tabular}{lllll}\n Artist & Category & Members & DebutYear & GrammyWinner\\\\\n <chr> & <chr> & <dbl> & <dbl> & <lgl>\\\\\n\\hline\n\t Billie Eilish & Pop & 1 & 2015 &  TRUE\\\\\n\t Cig after sex & Pop & 5 & 2008 &  TRUE\\\\\n\t Lana Del Rey  & Pop & 1 & 2005 & FALSE\\\\\n\t Central Cee   & Rap & 1 & 2020 &  TRUE\\\\\n\t Drake         & Rap & 1 & 2006 & FALSE\\\\\n\t Kanye West    & Rap & 1 & 2002 &  TRUE\\\\\n\t Ariana Grande & Pop & 1 & 2006 &  TRUE\\\\\n\t Selena Gomez  & Pop & 1 & 2002 & FALSE\\\\\n\t Justin Bieber & Pop & 1 & 2009 &  TRUE\\\\\n\t Weeknd        & Pop & 1 & 2013 &  TRUE\\\\\n\\end{tabular}\n",
            "text/plain": [
              "   Artist        Category Members DebutYear GrammyWinner\n",
              "1  Billie Eilish Pop      1       2015       TRUE       \n",
              "2  Cig after sex Pop      5       2008       TRUE       \n",
              "3  Lana Del Rey  Pop      1       2005      FALSE       \n",
              "4  Central Cee   Rap      1       2020       TRUE       \n",
              "5  Drake         Rap      1       2006      FALSE       \n",
              "6  Kanye West    Rap      1       2002       TRUE       \n",
              "7  Ariana Grande Pop      1       2006       TRUE       \n",
              "8  Selena Gomez  Pop      1       2002      FALSE       \n",
              "9  Justin Bieber Pop      1       2009       TRUE       \n",
              "10 Weeknd        Pop      1       2013       TRUE       "
            ]
          },
          "metadata": {}
        }
      ]
    },
    {
      "cell_type": "markdown",
      "source": [
        "## 5. Filter/Query a Data Frame (2 pts)\n",
        "\n",
        "Use the data frame you created above and show how to perform the following queries."
      ],
      "metadata": {
        "id": "nG5m-FIRydNU"
      }
    },
    {
      "cell_type": "code",
      "source": [
        "# Display the first 3 records and only the `artist`, `category` and `grammy` columns for each.\n",
        "df[1:3, c(1,2,5)]"
      ],
      "metadata": {
        "id": "OlmbfFi6zSgR",
        "outputId": "c76dc951-6311-4df2-ca76-aa6454834f7f",
        "colab": {
          "base_uri": "https://localhost:8080/",
          "height": 192
        }
      },
      "execution_count": 63,
      "outputs": [
        {
          "output_type": "display_data",
          "data": {
            "text/html": [
              "<table class=\"dataframe\">\n",
              "<caption>A data.frame: 3 × 3</caption>\n",
              "<thead>\n",
              "\t<tr><th></th><th scope=col>Artist</th><th scope=col>Category</th><th scope=col>GrammyWinner</th></tr>\n",
              "\t<tr><th></th><th scope=col>&lt;chr&gt;</th><th scope=col>&lt;chr&gt;</th><th scope=col>&lt;lgl&gt;</th></tr>\n",
              "</thead>\n",
              "<tbody>\n",
              "\t<tr><th scope=row>1</th><td>Billie Eilish</td><td>Pop</td><td> TRUE</td></tr>\n",
              "\t<tr><th scope=row>2</th><td>Cig after sex</td><td>Pop</td><td> TRUE</td></tr>\n",
              "\t<tr><th scope=row>3</th><td>Lana Del Rey </td><td>Pop</td><td>FALSE</td></tr>\n",
              "</tbody>\n",
              "</table>\n"
            ],
            "text/markdown": "\nA data.frame: 3 × 3\n\n| <!--/--> | Artist &lt;chr&gt; | Category &lt;chr&gt; | GrammyWinner &lt;lgl&gt; |\n|---|---|---|---|\n| 1 | Billie Eilish | Pop |  TRUE |\n| 2 | Cig after sex | Pop |  TRUE |\n| 3 | Lana Del Rey  | Pop | FALSE |\n\n",
            "text/latex": "A data.frame: 3 × 3\n\\begin{tabular}{r|lll}\n  & Artist & Category & GrammyWinner\\\\\n  & <chr> & <chr> & <lgl>\\\\\n\\hline\n\t1 & Billie Eilish & Pop &  TRUE\\\\\n\t2 & Cig after sex & Pop &  TRUE\\\\\n\t3 & Lana Del Rey  & Pop & FALSE\\\\\n\\end{tabular}\n",
            "text/plain": [
              "  Artist        Category GrammyWinner\n",
              "1 Billie Eilish Pop       TRUE       \n",
              "2 Cig after sex Pop       TRUE       \n",
              "3 Lana Del Rey  Pop      FALSE       "
            ]
          },
          "metadata": {}
        }
      ]
    },
    {
      "cell_type": "code",
      "source": [
        "# Display the records for just one musical category, such as only Rock bands or only Hip-hop bands.\n",
        "# df[df$Category==Rap]\n",
        "df %>%\n",
        "  select(Category) %>%\n",
        "  filter(Category == \"Rap\")"
      ],
      "metadata": {
        "id": "-l_kpWSzzlhG",
        "outputId": "45991a52-7442-4406-9731-1f1a92ba1f9c",
        "colab": {
          "base_uri": "https://localhost:8080/",
          "height": 227
        }
      },
      "execution_count": 64,
      "outputs": [
        {
          "output_type": "display_data",
          "data": {
            "text/html": [
              "<table class=\"dataframe\">\n",
              "<caption>A data.frame: 3 × 1</caption>\n",
              "<thead>\n",
              "\t<tr><th scope=col>Category</th></tr>\n",
              "\t<tr><th scope=col>&lt;chr&gt;</th></tr>\n",
              "</thead>\n",
              "<tbody>\n",
              "\t<tr><td>Rap</td></tr>\n",
              "\t<tr><td>Rap</td></tr>\n",
              "\t<tr><td>Rap</td></tr>\n",
              "</tbody>\n",
              "</table>\n"
            ],
            "text/markdown": "\nA data.frame: 3 × 1\n\n| Category &lt;chr&gt; |\n|---|\n| Rap |\n| Rap |\n| Rap |\n\n",
            "text/latex": "A data.frame: 3 × 1\n\\begin{tabular}{l}\n Category\\\\\n <chr>\\\\\n\\hline\n\t Rap\\\\\n\t Rap\\\\\n\t Rap\\\\\n\\end{tabular}\n",
            "text/plain": [
              "  Category\n",
              "1 Rap     \n",
              "2 Rap     \n",
              "3 Rap     "
            ]
          },
          "metadata": {}
        }
      ]
    },
    {
      "cell_type": "markdown",
      "source": [
        "## Query a Data Frame using `tidyverse` (4 pts)\n",
        "\n",
        "1. Show how to load the library.\n",
        "2. Show how to glimpse basic features of the `starwars` data table.\n",
        "3. Create a query using tidyverse that retrieves the following data:\n",
        "    - Selects only these columns: `name`, `height`, `sex`, `species`.\n",
        "    - Filters for all species that are NOT Human.\n",
        "    - Arranges the resulting data in order by name.\n",
        "\n",
        "Show your output in a data frame."
      ],
      "metadata": {
        "id": "L-xnszjS0Byy"
      }
    },
    {
      "cell_type": "code",
      "source": [
        "install.packages(\"tidyverse\")\n",
        "library(tidyverse)"
      ],
      "metadata": {
        "id": "yTMLzrxS0F4u",
        "outputId": "400cf512-0cdc-45f0-f25f-070cc5f54adb",
        "colab": {
          "base_uri": "https://localhost:8080/"
        }
      },
      "execution_count": 65,
      "outputs": [
        {
          "output_type": "stream",
          "name": "stderr",
          "text": [
            "Installing package into ‘/usr/local/lib/R/site-library’\n",
            "(as ‘lib’ is unspecified)\n",
            "\n"
          ]
        }
      ]
    },
    {
      "cell_type": "code",
      "source": [
        "glimpse(starwars)"
      ],
      "metadata": {
        "id": "zU9euf1XglNI",
        "outputId": "1217ea0a-f936-4ea7-a3a3-2eb1d173245d",
        "colab": {
          "base_uri": "https://localhost:8080/"
        }
      },
      "execution_count": 66,
      "outputs": [
        {
          "output_type": "stream",
          "name": "stdout",
          "text": [
            "Rows: 87\n",
            "Columns: 14\n",
            "$ name       \u001b[3m\u001b[90m<chr>\u001b[39m\u001b[23m \"Luke Skywalker\", \"C-3PO\", \"R2-D2\", \"Darth Vader\", \"Leia Or…\n",
            "$ height     \u001b[3m\u001b[90m<int>\u001b[39m\u001b[23m 172, 167, 96, 202, 150, 178, 165, 97, 183, 182, 188, 180, 2…\n",
            "$ mass       \u001b[3m\u001b[90m<dbl>\u001b[39m\u001b[23m 77.0, 75.0, 32.0, 136.0, 49.0, 120.0, 75.0, 32.0, 84.0, 77.…\n",
            "$ hair_color \u001b[3m\u001b[90m<chr>\u001b[39m\u001b[23m \"blond\", NA, NA, \"none\", \"brown\", \"brown, grey\", \"brown\", N…\n",
            "$ skin_color \u001b[3m\u001b[90m<chr>\u001b[39m\u001b[23m \"fair\", \"gold\", \"white, blue\", \"white\", \"light\", \"light\", \"…\n",
            "$ eye_color  \u001b[3m\u001b[90m<chr>\u001b[39m\u001b[23m \"blue\", \"yellow\", \"red\", \"yellow\", \"brown\", \"blue\", \"blue\",…\n",
            "$ birth_year \u001b[3m\u001b[90m<dbl>\u001b[39m\u001b[23m 19.0, 112.0, 33.0, 41.9, 19.0, 52.0, 47.0, NA, 24.0, 57.0, …\n",
            "$ sex        \u001b[3m\u001b[90m<chr>\u001b[39m\u001b[23m \"male\", \"none\", \"none\", \"male\", \"female\", \"male\", \"female\",…\n",
            "$ gender     \u001b[3m\u001b[90m<chr>\u001b[39m\u001b[23m \"masculine\", \"masculine\", \"masculine\", \"masculine\", \"femini…\n",
            "$ homeworld  \u001b[3m\u001b[90m<chr>\u001b[39m\u001b[23m \"Tatooine\", \"Tatooine\", \"Naboo\", \"Tatooine\", \"Alderaan\", \"T…\n",
            "$ species    \u001b[3m\u001b[90m<chr>\u001b[39m\u001b[23m \"Human\", \"Droid\", \"Droid\", \"Human\", \"Human\", \"Human\", \"Huma…\n",
            "$ films      \u001b[3m\u001b[90m<list>\u001b[39m\u001b[23m <\"The Empire Strikes Back\", \"Revenge of the Sith\", \"Return…\n",
            "$ vehicles   \u001b[3m\u001b[90m<list>\u001b[39m\u001b[23m <\"Snowspeeder\", \"Imperial Speeder Bike\">, <>, <>, <>, \"Imp…\n",
            "$ starships  \u001b[3m\u001b[90m<list>\u001b[39m\u001b[23m <\"X-wing\", \"Imperial shuttle\">, <>, <>, \"TIE Advanced x1\",…\n"
          ]
        }
      ]
    },
    {
      "cell_type": "code",
      "source": [
        "starwars %>%\n",
        "  select(name, height, sex, species) %>%\n",
        "  filter(species == \"Human\") %>%\n",
        "  arrange(name)"
      ],
      "metadata": {
        "id": "ZwnRO1VtjBOB",
        "outputId": "8b475b56-8385-45c9-b0bf-8e3090c60935",
        "colab": {
          "base_uri": "https://localhost:8080/",
          "height": 1000
        }
      },
      "execution_count": 67,
      "outputs": [
        {
          "output_type": "display_data",
          "data": {
            "text/html": [
              "<table class=\"dataframe\">\n",
              "<caption>A tibble: 35 × 4</caption>\n",
              "<thead>\n",
              "\t<tr><th scope=col>name</th><th scope=col>height</th><th scope=col>sex</th><th scope=col>species</th></tr>\n",
              "\t<tr><th scope=col>&lt;chr&gt;</th><th scope=col>&lt;int&gt;</th><th scope=col>&lt;chr&gt;</th><th scope=col>&lt;chr&gt;</th></tr>\n",
              "</thead>\n",
              "<tbody>\n",
              "\t<tr><td>Anakin Skywalker   </td><td>188</td><td>male  </td><td>Human</td></tr>\n",
              "\t<tr><td>Arvel Crynyd       </td><td> NA</td><td>male  </td><td>Human</td></tr>\n",
              "\t<tr><td>Bail Prestor Organa</td><td>191</td><td>male  </td><td>Human</td></tr>\n",
              "\t<tr><td>Beru Whitesun lars </td><td>165</td><td>female</td><td>Human</td></tr>\n",
              "\t<tr><td>Biggs Darklighter  </td><td>183</td><td>male  </td><td>Human</td></tr>\n",
              "\t<tr><td>Boba Fett          </td><td>183</td><td>male  </td><td>Human</td></tr>\n",
              "\t<tr><td>Cliegg Lars        </td><td>183</td><td>male  </td><td>Human</td></tr>\n",
              "\t<tr><td>Cordé              </td><td>157</td><td>female</td><td>Human</td></tr>\n",
              "\t<tr><td>Darth Vader        </td><td>202</td><td>male  </td><td>Human</td></tr>\n",
              "\t<tr><td>Dooku              </td><td>193</td><td>male  </td><td>Human</td></tr>\n",
              "\t<tr><td>Dormé              </td><td>165</td><td>female</td><td>Human</td></tr>\n",
              "\t<tr><td>Finis Valorum      </td><td>170</td><td>male  </td><td>Human</td></tr>\n",
              "\t<tr><td>Finn               </td><td> NA</td><td>male  </td><td>Human</td></tr>\n",
              "\t<tr><td>Gregar Typho       </td><td>185</td><td>male  </td><td>Human</td></tr>\n",
              "\t<tr><td>Han Solo           </td><td>180</td><td>male  </td><td>Human</td></tr>\n",
              "\t<tr><td>Jango Fett         </td><td>183</td><td>male  </td><td>Human</td></tr>\n",
              "\t<tr><td>Jek Tono Porkins   </td><td>180</td><td>male  </td><td>Human</td></tr>\n",
              "\t<tr><td>Jocasta Nu         </td><td>167</td><td>female</td><td>Human</td></tr>\n",
              "\t<tr><td>Lando Calrissian   </td><td>177</td><td>male  </td><td>Human</td></tr>\n",
              "\t<tr><td>Leia Organa        </td><td>150</td><td>female</td><td>Human</td></tr>\n",
              "\t<tr><td>Lobot              </td><td>175</td><td>male  </td><td>Human</td></tr>\n",
              "\t<tr><td>Luke Skywalker     </td><td>172</td><td>male  </td><td>Human</td></tr>\n",
              "\t<tr><td>Mace Windu         </td><td>188</td><td>male  </td><td>Human</td></tr>\n",
              "\t<tr><td>Mon Mothma         </td><td>150</td><td>female</td><td>Human</td></tr>\n",
              "\t<tr><td>Obi-Wan Kenobi     </td><td>182</td><td>male  </td><td>Human</td></tr>\n",
              "\t<tr><td>Owen Lars          </td><td>178</td><td>male  </td><td>Human</td></tr>\n",
              "\t<tr><td>Padmé Amidala      </td><td>165</td><td>female</td><td>Human</td></tr>\n",
              "\t<tr><td>Palpatine          </td><td>170</td><td>male  </td><td>Human</td></tr>\n",
              "\t<tr><td>Poe Dameron        </td><td> NA</td><td>male  </td><td>Human</td></tr>\n",
              "\t<tr><td>Qui-Gon Jinn       </td><td>193</td><td>male  </td><td>Human</td></tr>\n",
              "\t<tr><td>Raymus Antilles    </td><td>188</td><td>male  </td><td>Human</td></tr>\n",
              "\t<tr><td>Rey                </td><td> NA</td><td>female</td><td>Human</td></tr>\n",
              "\t<tr><td>Shmi Skywalker     </td><td>163</td><td>female</td><td>Human</td></tr>\n",
              "\t<tr><td>Wedge Antilles     </td><td>170</td><td>male  </td><td>Human</td></tr>\n",
              "\t<tr><td>Wilhuff Tarkin     </td><td>180</td><td>male  </td><td>Human</td></tr>\n",
              "</tbody>\n",
              "</table>\n"
            ],
            "text/markdown": "\nA tibble: 35 × 4\n\n| name &lt;chr&gt; | height &lt;int&gt; | sex &lt;chr&gt; | species &lt;chr&gt; |\n|---|---|---|---|\n| Anakin Skywalker    | 188 | male   | Human |\n| Arvel Crynyd        |  NA | male   | Human |\n| Bail Prestor Organa | 191 | male   | Human |\n| Beru Whitesun lars  | 165 | female | Human |\n| Biggs Darklighter   | 183 | male   | Human |\n| Boba Fett           | 183 | male   | Human |\n| Cliegg Lars         | 183 | male   | Human |\n| Cordé               | 157 | female | Human |\n| Darth Vader         | 202 | male   | Human |\n| Dooku               | 193 | male   | Human |\n| Dormé               | 165 | female | Human |\n| Finis Valorum       | 170 | male   | Human |\n| Finn                |  NA | male   | Human |\n| Gregar Typho        | 185 | male   | Human |\n| Han Solo            | 180 | male   | Human |\n| Jango Fett          | 183 | male   | Human |\n| Jek Tono Porkins    | 180 | male   | Human |\n| Jocasta Nu          | 167 | female | Human |\n| Lando Calrissian    | 177 | male   | Human |\n| Leia Organa         | 150 | female | Human |\n| Lobot               | 175 | male   | Human |\n| Luke Skywalker      | 172 | male   | Human |\n| Mace Windu          | 188 | male   | Human |\n| Mon Mothma          | 150 | female | Human |\n| Obi-Wan Kenobi      | 182 | male   | Human |\n| Owen Lars           | 178 | male   | Human |\n| Padmé Amidala       | 165 | female | Human |\n| Palpatine           | 170 | male   | Human |\n| Poe Dameron         |  NA | male   | Human |\n| Qui-Gon Jinn        | 193 | male   | Human |\n| Raymus Antilles     | 188 | male   | Human |\n| Rey                 |  NA | female | Human |\n| Shmi Skywalker      | 163 | female | Human |\n| Wedge Antilles      | 170 | male   | Human |\n| Wilhuff Tarkin      | 180 | male   | Human |\n\n",
            "text/latex": "A tibble: 35 × 4\n\\begin{tabular}{llll}\n name & height & sex & species\\\\\n <chr> & <int> & <chr> & <chr>\\\\\n\\hline\n\t Anakin Skywalker    & 188 & male   & Human\\\\\n\t Arvel Crynyd        &  NA & male   & Human\\\\\n\t Bail Prestor Organa & 191 & male   & Human\\\\\n\t Beru Whitesun lars  & 165 & female & Human\\\\\n\t Biggs Darklighter   & 183 & male   & Human\\\\\n\t Boba Fett           & 183 & male   & Human\\\\\n\t Cliegg Lars         & 183 & male   & Human\\\\\n\t Cordé               & 157 & female & Human\\\\\n\t Darth Vader         & 202 & male   & Human\\\\\n\t Dooku               & 193 & male   & Human\\\\\n\t Dormé               & 165 & female & Human\\\\\n\t Finis Valorum       & 170 & male   & Human\\\\\n\t Finn                &  NA & male   & Human\\\\\n\t Gregar Typho        & 185 & male   & Human\\\\\n\t Han Solo            & 180 & male   & Human\\\\\n\t Jango Fett          & 183 & male   & Human\\\\\n\t Jek Tono Porkins    & 180 & male   & Human\\\\\n\t Jocasta Nu          & 167 & female & Human\\\\\n\t Lando Calrissian    & 177 & male   & Human\\\\\n\t Leia Organa         & 150 & female & Human\\\\\n\t Lobot               & 175 & male   & Human\\\\\n\t Luke Skywalker      & 172 & male   & Human\\\\\n\t Mace Windu          & 188 & male   & Human\\\\\n\t Mon Mothma          & 150 & female & Human\\\\\n\t Obi-Wan Kenobi      & 182 & male   & Human\\\\\n\t Owen Lars           & 178 & male   & Human\\\\\n\t Padmé Amidala       & 165 & female & Human\\\\\n\t Palpatine           & 170 & male   & Human\\\\\n\t Poe Dameron         &  NA & male   & Human\\\\\n\t Qui-Gon Jinn        & 193 & male   & Human\\\\\n\t Raymus Antilles     & 188 & male   & Human\\\\\n\t Rey                 &  NA & female & Human\\\\\n\t Shmi Skywalker      & 163 & female & Human\\\\\n\t Wedge Antilles      & 170 & male   & Human\\\\\n\t Wilhuff Tarkin      & 180 & male   & Human\\\\\n\\end{tabular}\n",
            "text/plain": [
              "   name                height sex    species\n",
              "1  Anakin Skywalker    188    male   Human  \n",
              "2  Arvel Crynyd         NA    male   Human  \n",
              "3  Bail Prestor Organa 191    male   Human  \n",
              "4  Beru Whitesun lars  165    female Human  \n",
              "5  Biggs Darklighter   183    male   Human  \n",
              "6  Boba Fett           183    male   Human  \n",
              "7  Cliegg Lars         183    male   Human  \n",
              "8  Cordé               157    female Human  \n",
              "9  Darth Vader         202    male   Human  \n",
              "10 Dooku               193    male   Human  \n",
              "11 Dormé               165    female Human  \n",
              "12 Finis Valorum       170    male   Human  \n",
              "13 Finn                 NA    male   Human  \n",
              "14 Gregar Typho        185    male   Human  \n",
              "15 Han Solo            180    male   Human  \n",
              "16 Jango Fett          183    male   Human  \n",
              "17 Jek Tono Porkins    180    male   Human  \n",
              "18 Jocasta Nu          167    female Human  \n",
              "19 Lando Calrissian    177    male   Human  \n",
              "20 Leia Organa         150    female Human  \n",
              "21 Lobot               175    male   Human  \n",
              "22 Luke Skywalker      172    male   Human  \n",
              "23 Mace Windu          188    male   Human  \n",
              "24 Mon Mothma          150    female Human  \n",
              "25 Obi-Wan Kenobi      182    male   Human  \n",
              "26 Owen Lars           178    male   Human  \n",
              "27 Padmé Amidala       165    female Human  \n",
              "28 Palpatine           170    male   Human  \n",
              "29 Poe Dameron          NA    male   Human  \n",
              "30 Qui-Gon Jinn        193    male   Human  \n",
              "31 Raymus Antilles     188    male   Human  \n",
              "32 Rey                  NA    female Human  \n",
              "33 Shmi Skywalker      163    female Human  \n",
              "34 Wedge Antilles      170    male   Human  \n",
              "35 Wilhuff Tarkin      180    male   Human  "
            ]
          },
          "metadata": {}
        }
      ]
    },
    {
      "cell_type": "code",
      "source": [],
      "metadata": {
        "id": "V5GpJi17lycY"
      },
      "execution_count": null,
      "outputs": []
    }
  ]
}