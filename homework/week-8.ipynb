{
  "nbformat": 4,
  "nbformat_minor": 0,
  "metadata": {
    "colab": {
      "provenance": [],
      "include_colab_link": true
    },
    "kernelspec": {
      "name": "python3",
      "display_name": "Python 3"
    },
    "language_info": {
      "name": "python"
    }
  },
  "cells": [
    {
      "cell_type": "markdown",
      "metadata": {
        "id": "view-in-github",
        "colab_type": "text"
      },
      "source": [
        "<a href=\"https://colab.research.google.com/github/EmujinBat/ds1002-kfm8nx/blob/main/homework/week-8.ipynb\" target=\"_parent\"><img src=\"https://colab.research.google.com/assets/colab-badge.svg\" alt=\"Open In Colab\"/></a>"
      ]
    },
    {
      "cell_type": "markdown",
      "source": [
        "## While-Loops\n",
        "\n",
        "Perform the following steps in code:\n",
        "1. Define a variable and populate it with `0`.\n",
        "2. Create a while statement that evaluates whether that variable is less than or equal to `20`.\n",
        "3. Within the while loop evaluate if the variable value is even or odd.\n",
        "4. Within the while loop, if the variable value is even, print it. If not, do not print it.\n",
        "5. Within the while loop, finally add `1` to the variable before it repeats."
      ],
      "metadata": {
        "id": "But1V5T5qWJG"
      }
    },
    {
      "cell_type": "code",
      "source": [
        "# code here\n",
        "a = 0\n",
        "while a<=20:\n",
        "  if a%2 == 0:\n",
        "    print(a)\n",
        "  a +=1\n"
      ],
      "metadata": {
        "id": "GyQTkbqUq6SQ",
        "outputId": "2d7a9c3a-ac64-4390-a59a-592e84c1aa12",
        "colab": {
          "base_uri": "https://localhost:8080/"
        }
      },
      "execution_count": 1,
      "outputs": [
        {
          "output_type": "stream",
          "name": "stdout",
          "text": [
            "0\n",
            "2\n",
            "4\n",
            "6\n",
            "8\n",
            "10\n",
            "12\n",
            "14\n",
            "16\n",
            "18\n",
            "20\n"
          ]
        }
      ]
    },
    {
      "cell_type": "markdown",
      "source": [
        "## For-Loops with Lists"
      ],
      "metadata": {
        "id": "ghRg1MRwoXvD"
      }
    },
    {
      "cell_type": "code",
      "source": [
        "# Use this list in the exercises below\n",
        "\n",
        "mylist = [9, 15, 23, 4, 92, 47, 33, 17, -4, 18, 38, -242]"
      ],
      "metadata": {
        "id": "G0PaWRBuoZdQ"
      },
      "execution_count": 2,
      "outputs": []
    },
    {
      "cell_type": "code",
      "source": [
        "# Write a command to print out all the values of this list\n",
        "# EXCEPT for any negative values. Omit them from the printing.\n",
        "for value in mylist:\n",
        "  if value>=0:\n",
        "    print(value)"
      ],
      "metadata": {
        "id": "hzoe9vw3phWs",
        "outputId": "ddc93ed5-416e-4fc8-b517-3d616052a4f7",
        "colab": {
          "base_uri": "https://localhost:8080/"
        }
      },
      "execution_count": 11,
      "outputs": [
        {
          "output_type": "stream",
          "name": "stdout",
          "text": [
            "9\n",
            "15\n",
            "23\n",
            "4\n",
            "92\n",
            "47\n",
            "33\n",
            "17\n",
            "18\n",
            "38\n"
          ]
        }
      ]
    },
    {
      "cell_type": "code",
      "source": [
        "# Repeat the command from above, but this time get\n",
        "# the absolute value of any negative values in the list\n",
        "# and print those with the other items.\n",
        "for value in mylist:\n",
        "  if value<0:\n",
        "    value = abs(value)\n",
        "  print(value)"
      ],
      "metadata": {
        "id": "IE1-XLNrpnvy",
        "outputId": "abc4c4fa-b4fc-48b3-9957-30ae6a881345",
        "colab": {
          "base_uri": "https://localhost:8080/"
        }
      },
      "execution_count": 13,
      "outputs": [
        {
          "output_type": "stream",
          "name": "stdout",
          "text": [
            "9\n",
            "15\n",
            "23\n",
            "4\n",
            "92\n",
            "47\n",
            "33\n",
            "17\n",
            "4\n",
            "18\n",
            "38\n",
            "242\n"
          ]
        }
      ]
    },
    {
      "cell_type": "code",
      "source": [
        "# Similar to above, write a command to print out items in\n",
        "# the list but omit any values greater than 20 and less than 40.\n",
        "for items in mylist:\n",
        "  if items>20 and items<40:\n",
        "    print(items)"
      ],
      "metadata": {
        "id": "rC38pZowp4LX",
        "outputId": "66b5524c-deb8-4b97-eab1-7784eafaa7d6",
        "colab": {
          "base_uri": "https://localhost:8080/"
        }
      },
      "execution_count": 16,
      "outputs": [
        {
          "output_type": "stream",
          "name": "stdout",
          "text": [
            "23\n",
            "33\n",
            "38\n"
          ]
        }
      ]
    },
    {
      "cell_type": "markdown",
      "source": [
        "## For-Loops with Dictionaries"
      ],
      "metadata": {
        "id": "BD1Wg4oSSEdz"
      }
    },
    {
      "cell_type": "code",
      "source": [
        "capitals = {'United States':'Washington DC',\n",
        "          'Italy':'Rome',\n",
        "          'England':'London',\n",
        "          'Thailand':'Bangkok',\n",
        "          'Brazil':'Brasilia'}"
      ],
      "metadata": {
        "id": "9DpHR_WzSGA8"
      },
      "execution_count": 25,
      "outputs": []
    },
    {
      "cell_type": "code",
      "source": [
        "# Write a command to print out all the keys of this dict\n",
        "for countries in capitals:\n",
        "  print(countries)"
      ],
      "metadata": {
        "id": "Iy_i6RE3S1ta",
        "outputId": "14e71fb8-00f3-40da-d44f-f3cf990bd861",
        "colab": {
          "base_uri": "https://localhost:8080/"
        }
      },
      "execution_count": 19,
      "outputs": [
        {
          "output_type": "stream",
          "name": "stdout",
          "text": [
            "United States\n",
            "Italy\n",
            "England\n",
            "Thailand\n",
            "Brazil\n"
          ]
        }
      ]
    },
    {
      "cell_type": "code",
      "source": [
        "# Write a command to print out all the values of this dict\n",
        "for countries in capitals:\n",
        "  print(capitals[countries])"
      ],
      "metadata": {
        "id": "eYNBRQAsS95v",
        "outputId": "8bbec230-d5d0-40a9-afb0-71a5c83a2bd6",
        "colab": {
          "base_uri": "https://localhost:8080/"
        }
      },
      "execution_count": 20,
      "outputs": [
        {
          "output_type": "stream",
          "name": "stdout",
          "text": [
            "Washington DC\n",
            "Rome\n",
            "London\n",
            "Bangkok\n",
            "Brasilia\n"
          ]
        }
      ]
    },
    {
      "cell_type": "code",
      "source": [
        "# Write a command to print all the keys and values for this dict\n",
        "for countries in capitals:\n",
        "  print(countries, \" \", capitals[countries])\n"
      ],
      "metadata": {
        "id": "b1KYFdDxSH7X",
        "outputId": "a448f468-8671-40a1-9f6f-74fed3db8ea2",
        "colab": {
          "base_uri": "https://localhost:8080/"
        }
      },
      "execution_count": 24,
      "outputs": [
        {
          "output_type": "stream",
          "name": "stdout",
          "text": [
            "United States   Washington DC\n",
            "Italy   Rome\n",
            "England   London\n",
            "Thailand   Bangkok\n",
            "Brazil   Brasilia\n"
          ]
        }
      ]
    },
    {
      "cell_type": "code",
      "source": [
        "# Write a command to print only the first three values and NOTHING more.\n",
        "index = 0\n",
        "for countries in capitals:\n",
        "  if index < 3:\n",
        "    print(capitals[countries])\n",
        "    index +=1\n",
        "  else:\n",
        "    break\n"
      ],
      "metadata": {
        "id": "pun10Fq2oonQ",
        "outputId": "4a55bc7e-76f8-4879-b472-3250ea16d4d5",
        "colab": {
          "base_uri": "https://localhost:8080/"
        }
      },
      "execution_count": 28,
      "outputs": [
        {
          "output_type": "stream",
          "name": "stdout",
          "text": [
            "Washington DC\n",
            "Rome\n",
            "London\n"
          ]
        }
      ]
    }
  ]
}